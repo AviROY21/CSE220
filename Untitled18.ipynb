{
  "nbformat": 4,
  "nbformat_minor": 0,
  "metadata": {
    "colab": {
      "provenance": []
    },
    "kernelspec": {
      "name": "python3",
      "display_name": "Python 3"
    },
    "language_info": {
      "name": "python"
    }
  },
  "cells": [
    {
      "cell_type": "code",
      "execution_count": 3,
      "metadata": {
        "colab": {
          "base_uri": "https://localhost:8080/"
        },
        "id": "HavV53lKKQv5",
        "outputId": "7b949c21-8655-4fce-a621-e974244e3e49"
      },
      "outputs": [
        {
          "output_type": "stream",
          "name": "stdout",
          "text": [
            "[1, 2, 3, 5, 7, 8, 11]\n"
          ]
        }
      ],
      "source": [
        "#1\n",
        "def merge_sorted_arrays(arr1, arr2):\n",
        "    i, j= 0,0\n",
        "    merged_array=[]\n",
        "    len_arr1,len_arr2=len(arr1), len(arr2)\n",
        "\n",
        "    while i < len_arr1 and j < len_arr2:\n",
        "        if arr1[i] < arr2[j]:\n",
        "            merged_array+=[arr1[i]]\n",
        "            i+=1\n",
        "        else:\n",
        "            merged_array += [arr2[j]]\n",
        "            j+=1\n",
        "    while i < len_arr1:\n",
        "        merged_array+=[arr1[i]]\n",
        "        i+=1\n",
        "    while j < len_arr2:\n",
        "        merged_array+=[arr2[j]]\n",
        "        j += 1\n",
        "    return merged_array\n",
        "\n",
        "#Sample arrays\n",
        "arr1 = [1, 3, 5,11]\n",
        "arr2 = [2, 7, 8]\n",
        "result = merge_sorted_arrays(arr1, arr2)\n",
        "print(result)"
      ]
    },
    {
      "cell_type": "code",
      "source": [
        "#2\n",
        "def max_area(height):\n",
        "    left,right = 0, len(height) - 1\n",
        "    max_area= 0\n",
        "\n",
        "    while left<right:\n",
        "        area = min(height[left],height[right])*(right - left)\n",
        "        max_area=max(max_area,area)\n",
        "\n",
        "        if height[left]<height[right]:\n",
        "            left+=1\n",
        "        else:\n",
        "            right-=1\n",
        "\n",
        "    return max_area\n",
        "\n",
        "\n",
        "height = [1, 8, 6, 2, 5, 4, 8, 3, 7]\n",
        "print(max_area(height))"
      ],
      "metadata": {
        "colab": {
          "base_uri": "https://localhost:8080/"
        },
        "id": "V2T4_hQyOFLQ",
        "outputId": "9b1f82f1-4be0-40f9-899e-351ffa7874fe"
      },
      "execution_count": 7,
      "outputs": [
        {
          "output_type": "stream",
          "name": "stdout",
          "text": [
            "49\n"
          ]
        }
      ]
    },
    {
      "cell_type": "code",
      "source": [
        "#3\n",
        "class Node:\n",
        "    def __init__(self,color):\n",
        "        self.color =color\n",
        "        self.next =None\n",
        "def LinkedList(colors):\n",
        "    head=None\n",
        "    prev_node=None\n",
        "    for color in colors:\n",
        "        new_node=Node(color)\n",
        "        if head is None:\n",
        "            head=new_node\n",
        "        else:\n",
        "            prev_node.next = new_node\n",
        "        prev_node = new_node\n",
        "    return head\n",
        "def check_similar(building_1,building_2):\n",
        "    while building_1 and building_2:\n",
        "        if building_1.color != building_2.color:\n",
        "            return \"Not Similar\"\n",
        "        building_1 = building_1.next\n",
        "        building_2 = building_2.next\n",
        "    if building_1 is None and building_2 is None:\n",
        "        return \"Similar\"\n",
        "    return \"Not Similar\"\n",
        "\n",
        "# Sample inputs\n",
        "building_1 =LinkedList([\"Red\", \"Green\", \"Yellow\", \"Red\", \"Blue\", \"Green\"])\n",
        "building_2 =LinkedList([\"Red\", \"Green\", \"Yellow\", \"Red\", \"Blue\", \"Green\"])\n",
        "print(check_similar(building_1,building_2))\n",
        "\n",
        "building_1 =LinkedList([\"Red\", \"Green\", \"Yellow\", \"Red\", \"Yellow\", \"Green\"])\n",
        "building_2 =LinkedList([\"Red\", \"Green\", \"Yellow\", \"Red\", \"Blue\", \"Green\"])\n",
        "print(check_similar(building_1,building_2))"
      ],
      "metadata": {
        "colab": {
          "base_uri": "https://localhost:8080/"
        },
        "id": "8v7J4nlLQudO",
        "outputId": "7686311c-46b1-4381-8ea6-9e0ff598ff6f"
      },
      "execution_count": 14,
      "outputs": [
        {
          "output_type": "stream",
          "name": "stdout",
          "text": [
            "Similar\n",
            "Not Similar\n"
          ]
        }
      ]
    },
    {
      "cell_type": "code",
      "source": [
        "class Node:\n",
        "    def __init__(self, age):\n",
        "        self.age = age\n",
        "        self.next = None\n",
        "\n",
        "class CongaLine:\n",
        "    def __init__(self):\n",
        "        self.head =None\n",
        "\n",
        "    def add(self,age):\n",
        "        new_node=Node(age)\n",
        "        if not self.head:\n",
        "            self.head=new_node\n",
        "        else:\n",
        "            current=self.head\n",
        "            while current.next:\n",
        "                current=current.next\n",
        "            current.next=new_node\n",
        "\n",
        "    def order(self):\n",
        "        current = self.head\n",
        "        while current and current.next:\n",
        "            if current.age>current.next.age:\n",
        "                return False\n",
        "            current=current.next\n",
        "        return True\n",
        "\n",
        "# Sample Input\n",
        "conga1 = CongaLine()\n",
        "ages1 = [10, 15, 34, 41, 56, 72]\n",
        "for age in ages1:\n",
        "    conga1.add(age)\n",
        "print(conga1.order())\n",
        "\n",
        "# Sample Input 2:\n",
        "conga2 = CongaLine()\n",
        "ages2 = [10, 15, 44, 41, 56, 72]\n",
        "for age in ages2:\n",
        "    conga2.add(age)\n",
        "print(conga2.order())"
      ],
      "metadata": {
        "colab": {
          "base_uri": "https://localhost:8080/"
        },
        "id": "3VH5J9ejgkWi",
        "outputId": "af326d8c-12af-48c5-d5c8-b4a7ee21d947"
      },
      "execution_count": 22,
      "outputs": [
        {
          "output_type": "stream",
          "name": "stdout",
          "text": [
            "True\n",
            "False\n"
          ]
        }
      ]
    },
    {
      "cell_type": "code",
      "source": [
        "#4\n",
        "def conga_line_ascending(age):\n",
        "    for i in range(len(age)-1):\n",
        "        if age[i]>=age[i+1]:\n",
        "            return False\n",
        "    return True\n",
        "\n",
        "# Sample inputs\n",
        "print(conga_line_ascending([10, 15, 34, 41, 56, 72]))\n",
        "print(conga_line_ascending([10, 15, 44, 41, 56, 72]))"
      ],
      "metadata": {
        "colab": {
          "base_uri": "https://localhost:8080/"
        },
        "id": "EEED3VytZP_Z",
        "outputId": "2f181e4b-a9de-4efa-d2a8-7cee3923a4b5"
      },
      "execution_count": 16,
      "outputs": [
        {
          "output_type": "stream",
          "name": "stdout",
          "text": [
            "True\n",
            "False\n"
          ]
        }
      ]
    },
    {
      "cell_type": "code",
      "source": [
        "class Node:\n",
        "    def __init__(self, elem):\n",
        "        self.elem = elem\n",
        "        self.next = None\n",
        "\n",
        "class LinkedList:\n",
        "    def __init__(self):\n",
        "        self.head = None\n",
        "    def create_list(self, elements):\n",
        "        if not elements:\n",
        "            return\n",
        "        self.head=Node(elements[0])\n",
        "        current =self.head\n",
        "        for elem in elements[1:]:\n",
        "            current.next=Node(elem)\n",
        "            current=current.next\n",
        "\n",
        "def sum_dist(linked_list,dist):\n",
        "    total_sum = 0\n",
        "    for distance in dist:\n",
        "        current_node = linked_list.head\n",
        "        for _ in range(distance):\n",
        "            if current_node:\n",
        "                current_node=current_node.next\n",
        "            else:\n",
        "                break\n",
        "        if current_node:\n",
        "            total_sum+=current_node.elem\n",
        "    return total_sum\n",
        "\n",
        "#Sample Input\n",
        "LL1=LinkedList()\n",
        "LL1.create_list([10, 16, -5, 9, -3, 4])\n",
        "dist=[2, 0, 5, 2, 8]\n",
        "result=sum_dist(LL1,dist)\n",
        "print(result)"
      ],
      "metadata": {
        "colab": {
          "base_uri": "https://localhost:8080/"
        },
        "id": "hI35sAuFaEA7",
        "outputId": "a1ca3e26-5e42-4f24-85d6-00df37fc9617"
      },
      "execution_count": 19,
      "outputs": [
        {
          "output_type": "stream",
          "name": "stdout",
          "text": [
            "4\n"
          ]
        }
      ]
    }
  ]
}